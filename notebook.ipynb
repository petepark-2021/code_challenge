{
 "cells": [
  {
   "cell_type": "code",
   "execution_count": 4,
   "metadata": {},
   "outputs": [
    {
     "name": "stdout",
     "output_type": "stream",
     "text": [
      "Programming Language: Python\n",
      "\n",
      "Haiku:\n",
      "Python, sleek and fast\n",
      "Code flows like a river stream\n",
      "Efficient, powerful\n",
      "\n",
      "Explanation:\n",
      "This Haiku praises Python as a programming language that is sleek, fast, and efficient. It describes how coding in Python feels natural and smooth, like a river stream flowing effortlessly. The language is also portrayed as powerful and effective in getting tasks done efficiently.\n"
     ]
    }
   ],
   "source": [
    "#Day1\n",
    "from langchain.prompts import ChatPromptTemplate\n",
    "from langchain.chains import LLMChain\n",
    "from langchain.chat_models import ChatOpenAI\n",
    "from langchain.schema.runnable import RunnablePassthrough\n",
    "\n",
    "\n",
    "model = ChatOpenAI(model=\"gpt-3.5-turbo\", temperature=0)\n",
    "\n",
    "haiku_prompt = ChatPromptTemplate.from_template(\"Write a short Haiku about the programming language '{language}'.\")      \n",
    "haiku_chain = LLMChain(llm=model, prompt=haiku_prompt)\n",
    "\n",
    "explain_prompt = ChatPromptTemplate.from_template(\n",
    "    \"Explain the following Haiku about a programming language:\\n\\n'{haiku}'\"\n",
    ")\n",
    "explain_chain = LLMChain(llm=model, prompt=explain_prompt)\n",
    "\n",
    "def chain_with_explanation(input_language):\n",
    "    haiku_result = haiku_chain.invoke({\"language\": input_language})\n",
    "    haiku = haiku_result['text'].strip()\n",
    "    \n",
    "    explanation_result = explain_chain.invoke({\"haiku\": haiku})\n",
    "    explanation = explanation_result['text'].strip()\n",
    "                                                                                                            \n",
    "    return {\n",
    "        \"language\": input_language,\n",
    "        \"haiku\": haiku,\n",
    "        \"explanation\": explanation\n",
    "    }\n",
    "\n",
    "if __name__ == \"__main__\":\n",
    "    language_name = \"Python\"\n",
    "    result = chain_with_explanation(language_name)\n",
    "    print(f\"Programming Language: {result['language']}\\n\")\n",
    "    print(f\"Haiku:\\n{result['haiku']}\\n\")\n",
    "    print(f\"Explanation:\\n{result['explanation']}\")\n",
    "\n"
   ]
  }
 ],
 "metadata": {
  "kernelspec": {
   "display_name": "venv",
   "language": "python",
   "name": "python3"
  },
  "language_info": {
   "codemirror_mode": {
    "name": "ipython",
    "version": 3
   },
   "file_extension": ".py",
   "mimetype": "text/x-python",
   "name": "python",
   "nbconvert_exporter": "python",
   "pygments_lexer": "ipython3",
   "version": "3.11.6"
  }
 },
 "nbformat": 4,
 "nbformat_minor": 2
}
